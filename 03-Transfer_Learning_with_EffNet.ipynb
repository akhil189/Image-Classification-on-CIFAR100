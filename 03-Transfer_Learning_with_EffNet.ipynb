{
 "cells": [
  {
   "cell_type": "markdown",
   "id": "f350dac2-4d76-4ddb-9933-f37504934edf",
   "metadata": {},
   "source": [
    "# Transfer Learning"
   ]
  },
  {
   "cell_type": "code",
   "execution_count": 1,
   "id": "92fad6f5-959f-4b16-a3fd-d2f6dd4fd871",
   "metadata": {},
   "outputs": [],
   "source": [
    "import torch\n",
    "import torch.nn as nn\n",
    "import torch.optim as optim\n",
    "from torch.optim import lr_scheduler\n",
    "import torchvision\n",
    "import numpy as np\n",
    "from torchvision import datasets, models, transforms\n",
    "import matplotlib.pyplot as plt\n",
    "import time\n",
    "import os\n",
    "import copy"
   ]
  },
  {
   "cell_type": "code",
   "execution_count": 2,
   "id": "f5c5ac9a-2695-46b7-831e-57207a3b4341",
   "metadata": {},
   "outputs": [],
   "source": [
    "mean = np.array([0.5, 0.5, 0.5])\n",
    "std = np.array([0.25, 0.25, 0.25])\n",
    "\n",
    "data_transforms = {\n",
    "    'train': transforms.Compose([\n",
    "        transforms.RandomResizedCrop(224),\n",
    "        transforms.RandomHorizontalFlip(),\n",
    "        transforms.ToTensor(),\n",
    "        transforms.Normalize(mean, std)\n",
    "    ]),\n",
    "    'val': transforms.Compose([\n",
    "        transforms.Resize(256),\n",
    "        transforms.CenterCrop(224),\n",
    "        transforms.ToTensor(),\n",
    "        transforms.Normalize(mean, std)\n",
    "    ])\n",
    "}"
   ]
  },
  {
   "cell_type": "code",
   "execution_count": 3,
   "id": "a9fa6def-fc82-4c3e-a177-885754780ffb",
   "metadata": {},
   "outputs": [
    {
     "name": "stdout",
     "output_type": "stream",
     "text": [
      "Files already downloaded and verified\n",
      "Files already downloaded and verified\n",
      "Files already downloaded and verified\n"
     ]
    }
   ],
   "source": [
    "train_dataset = torchvision.datasets.CIFAR100(root='./data',\n",
    "                                              train=True,\n",
    "                                              download=True,\n",
    "                                              transform=data_transforms['train'])\n",
    "\n",
    "test_dataset = torchvision.datasets.CIFAR100(root='./data',\n",
    "                                             train=False,\n",
    "                                             download=True,\n",
    "                                             transform = data_transforms['val'])\n",
    "\n",
    "val_dataset = torchvision.datasets.CIFAR100(root='./data',\n",
    "                                            train=False,\n",
    "                                            download=True,\n",
    "                                            transform=data_transforms['val'])"
   ]
  },
  {
   "cell_type": "code",
   "execution_count": 4,
   "id": "e2b66f82-bb20-4d17-b3cb-6031ae416b9d",
   "metadata": {},
   "outputs": [
    {
     "name": "stdout",
     "output_type": "stream",
     "text": [
      "['apple', 'aquarium_fish', 'baby', 'bear', 'beaver', 'bed', 'bee', 'beetle', 'bicycle', 'bottle', 'bowl', 'boy', 'bridge', 'bus', 'butterfly', 'camel', 'can', 'castle', 'caterpillar', 'cattle', 'chair', 'chimpanzee', 'clock', 'cloud', 'cockroach', 'couch', 'crab', 'crocodile', 'cup', 'dinosaur', 'dolphin', 'elephant', 'flatfish', 'forest', 'fox', 'girl', 'hamster', 'house', 'kangaroo', 'keyboard', 'lamp', 'lawn_mower', 'leopard', 'lion', 'lizard', 'lobster', 'man', 'maple_tree', 'motorcycle', 'mountain', 'mouse', 'mushroom', 'oak_tree', 'orange', 'orchid', 'otter', 'palm_tree', 'pear', 'pickup_truck', 'pine_tree', 'plain', 'plate', 'poppy', 'porcupine', 'possum', 'rabbit', 'raccoon', 'ray', 'road', 'rocket', 'rose', 'sea', 'seal', 'shark', 'shrew', 'skunk', 'skyscraper', 'snail', 'snake', 'spider', 'squirrel', 'streetcar', 'sunflower', 'sweet_pepper', 'table', 'tank', 'telephone', 'television', 'tiger', 'tractor', 'train', 'trout', 'tulip', 'turtle', 'wardrobe', 'whale', 'willow_tree', 'wolf', 'woman', 'worm']\n"
     ]
    }
   ],
   "source": [
    "image_datasets = { 'train': train_dataset,\n",
    "                  'val': val_dataset}\n",
    "dataloaders = {x: torch.utils.data.DataLoader(image_datasets[x],\n",
    "                                              batch_size=8,\n",
    "                                              pin_memory = True,\n",
    "                                              shuffle=True,\n",
    "                                              num_workers=4)\n",
    "               for x in ['train', 'val']}\n",
    "\n",
    "dataset_sizes = {x: len(image_datasets[x]) for x in ['train', 'val']}\n",
    "class_names = image_datasets['train'].classes\n",
    "\n",
    "device = torch.device(\"cuda:0\" if torch.cuda.is_available() else \"cpu\")\n",
    "print(class_names)"
   ]
  },
  {
   "cell_type": "code",
   "execution_count": 5,
   "id": "8b7a235e-4a53-4bef-8d6d-9adc2d7d383c",
   "metadata": {},
   "outputs": [
    {
     "data": {
      "text/plain": [
       "torch.Size([8, 3, 224, 224])"
      ]
     },
     "execution_count": 5,
     "metadata": {},
     "output_type": "execute_result"
    }
   ],
   "source": [
    "inputs, classes = next(iter(dataloaders['train']))\n",
    "inputs.shape"
   ]
  },
  {
   "cell_type": "code",
   "execution_count": 6,
   "id": "de2eef1a-37ab-474d-8a80-c6d547590f6d",
   "metadata": {},
   "outputs": [],
   "source": [
    "def imshow(inp, title):\n",
    "    inp = inp.numpy().transpose((1,2,0))\n",
    "    inp = std*inp + mean\n",
    "    inp = np.clip(inp, 0, 1)\n",
    "    plt.imshow(inp)\n",
    "    plt.title(title)\n",
    "    plt.show()"
   ]
  },
  {
   "cell_type": "code",
   "execution_count": 7,
   "id": "f8f6d093-d28a-4104-8a86-3d4f5b527500",
   "metadata": {},
   "outputs": [],
   "source": [
    "# Getting a batch of training data\n",
    "inputs, classes = next(iter(dataloaders['train']))"
   ]
  },
  {
   "cell_type": "code",
   "execution_count": 8,
   "id": "8fda9771-e95c-4d7b-9691-ab28b02e28c3",
   "metadata": {},
   "outputs": [],
   "source": [
    "# Make a grid from batch\n",
    "out = torchvision.utils.make_grid(inputs)"
   ]
  },
  {
   "cell_type": "code",
   "execution_count": 9,
   "id": "8da846cf-13bd-4f8f-be9b-f20a6bf5b26c",
   "metadata": {},
   "outputs": [
    {
     "data": {
      "image/png": "[encoded data removed]",
      "text/plain": [
       "<Figure size 640x480 with 1 Axes>"
      ]
     },
     "metadata": {},
     "output_type": "display_data"
    }
   ],
   "source": [
    "imshow(out, title=[class_names[x] for x in classes])"
   ]
  },
  {
   "cell_type": "code",
   "execution_count": 10,
   "id": "91f5098b-be50-4c46-ba61-8d18770a4660",
   "metadata": {},
   "outputs": [],
   "source": [
    "def train_model(model,\n",
    "                criterion,\n",
    "                optimizer,\n",
    "                scheduler,\n",
    "                num_epochs=25):\n",
    "    since = time.time()\n",
    "    \n",
    "    best_model_wts = copy.deepcopy(model.state_dict())\n",
    "    best_acc = 0.0\n",
    "\n",
    "    for epoch in range(num_epochs):\n",
    "        print(f'Epoch {epoch}/{num_epochs - 1}')\n",
    "        print('-'*10)\n",
    "        \n",
    "        '''\n",
    "        Each epoch has a training and validation phase\n",
    "        '''\n",
    "        for phase in ['train', 'val']:\n",
    "            if phase == 'train':\n",
    "                model.train() # Set model to training mode\n",
    "            else:\n",
    "                model.eval() # Set model to evaluate mode\n",
    "            \n",
    "            running_loss = 0.0\n",
    "            running_corrects = 0\n",
    "            \n",
    "            # Iterate over data\n",
    "            for inputs, labels in dataloaders[phase]:\n",
    "                inputs = inputs.to(device)\n",
    "                labels = labels.to(device)\n",
    "                \n",
    "                # forward\n",
    "                # track history if only in train\n",
    "                with torch.set_grad_enabled(phase=='train'):\n",
    "                    outputs = model(inputs)\n",
    "                    _, preds = torch.max(outputs, 1)\n",
    "                    loss = criterion(outputs, labels)\n",
    "                \n",
    "                #backward + optimize only if in training phase\n",
    "                if phase == 'train':\n",
    "                    optimizer.zero_grad()\n",
    "                    loss.backward()\n",
    "                    optimizer.step()\n",
    "                \n",
    "                #statistics\n",
    "                running_loss += loss.item() * inputs.size(0)\n",
    "                running_corrects += torch.sum(preds == labels.data)\n",
    "                \n",
    "            # if phase == 'train':\n",
    "            #     scheduler.step()\n",
    "            \n",
    "            epoch_loss = running_loss /dataset_sizes[phase]\n",
    "            epoch_acc = running_corrects.double() /dataset_sizes[phase]\n",
    "            if phase == 'val':\n",
    "                scheduler.step(epoch_acc)\n",
    "            print(f'{phase} Loss: {epoch_loss:.4f} Acc: {epoch_acc:.4f}')\n",
    "            \n",
    "            # Deep copy the model\n",
    "            if phase == 'val' and epoch_acc > best_acc:\n",
    "                best_acc = epoch_acc\n",
    "                best_model_wts = copy.deepcopy(model.state_dict())\n",
    "        print()\n",
    "    \n",
    "    time_elapsed = time.time() - since\n",
    "    print(f'Training complete in {time_elapsed//60:.0f}m {time_elapsed%60:.0f}s')\n",
    "    print(f'Best val Acc: {best_acc:.4f}')\n",
    "    \n",
    "    # load best model weights\n",
    "    model.load_state_dict(best_model_wts)\n",
    "    return model"
   ]
  },
  {
   "cell_type": "code",
   "execution_count": 14,
   "id": "8a09c567-5fe3-44b2-bb1f-cc12a570d35d",
   "metadata": {},
   "outputs": [],
   "source": [
    "model = models.efficientnet_b0(weights='EfficientNet_B0_Weights.IMAGENET1K_V1')\n",
    "\n",
    "for params in model.parameters():\n",
    "            params.requires_grad = True\n",
    "        \n",
    "model.classifier[1] = nn.Linear(in_features=1280, out_features=100)\n",
    "model.to(device)\n",
    "\n",
    "criterion = nn.CrossEntropyLoss()\n",
    "\n",
    "optimizer = torch.optim.Adam(params = model.parameters(),\n",
    "                             lr = 0.0001)"
   ]
  },
  {
   "cell_type": "code",
   "execution_count": 15,
   "id": "195aede2-3d7a-4f9d-aa6c-d6546f94fffa",
   "metadata": {},
   "outputs": [],
   "source": [
    "scheduler = lr_scheduler.StepLR(optimizer=optimizer,\n",
    "                                        step_size=7,\n",
    "                                        gamma=0.1)\n",
    "\n",
    "# scheduler = lr_scheduler.OneCycleLR(optimizer = optimizer,\n",
    "#                                      max_lr=0.01,\n",
    "#                                      epochs=25, \n",
    "#                                      steps_per_epoch=len(train_loader))\n",
    "\n",
    "scheduler = lr_scheduler.ReduceLROnPlateau(optimizer=optimizer,\n",
    "                                           mode='max',\n",
    "                                           factor=0.5,\n",
    "                                           patience=5,\n",
    "                                           min_lr=1e-6,\n",
    "                                           verbose=True\n",
    "                                           )"
   ]
  },
  {
   "cell_type": "markdown",
   "id": "21432717-b2e1-4995-85b7-1b18c958bcf6",
   "metadata": {},
   "source": [
    "Learning Rate scheduling should be applied after optmizer's update\n",
    "E.g: We should write the code in this way\n",
    "```python\n",
    "for epoch in range(100):\n",
    "    train(...) #optimizer.step()\n",
    "    validate(...)\n",
    "    scheduler.step()\n",
    "```"
   ]
  },
  {
   "cell_type": "code",
   "execution_count": 16,
   "id": "45c868fd-afa6-48f2-8215-989e54098899",
   "metadata": {},
   "outputs": [
    {
     "name": "stdout",
     "output_type": "stream",
     "text": [
      "Epoch 0/24\n",
      "----------\n",
      "train Loss: 2.7445 Acc: 0.3346\n",
      "val Loss: 1.1328 Acc: 0.6682\n",
      "\n",
      "Epoch 1/24\n",
      "----------\n",
      "train Loss: 1.9193 Acc: 0.5022\n",
      "val Loss: 0.9216 Acc: 0.7370\n",
      "\n",
      "Epoch 2/24\n",
      "----------\n",
      "train Loss: 1.7180 Acc: 0.5486\n",
      "val Loss: 0.8847 Acc: 0.7535\n",
      "\n",
      "Epoch 3/24\n",
      "----------\n",
      "train Loss: 1.5916 Acc: 0.5809\n",
      "val Loss: 0.8406 Acc: 0.7760\n",
      "\n",
      "Epoch 4/24\n",
      "----------\n",
      "train Loss: 1.5053 Acc: 0.6014\n",
      "val Loss: 0.8188 Acc: 0.7832\n",
      "\n",
      "Epoch 5/24\n",
      "----------\n",
      "train Loss: 1.4229 Acc: 0.6223\n",
      "val Loss: 0.8197 Acc: 0.7840\n",
      "\n",
      "Epoch 6/24\n",
      "----------\n",
      "train Loss: 1.3582 Acc: 0.6352\n",
      "val Loss: 0.7889 Acc: 0.7940\n",
      "\n",
      "Epoch 7/24\n",
      "----------\n",
      "train Loss: 1.3154 Acc: 0.6480\n",
      "val Loss: 0.7656 Acc: 0.8016\n",
      "\n",
      "Epoch 8/24\n",
      "----------\n",
      "train Loss: 1.2781 Acc: 0.6571\n",
      "val Loss: 0.7676 Acc: 0.8004\n",
      "\n",
      "Epoch 9/24\n",
      "----------\n",
      "train Loss: 1.2421 Acc: 0.6653\n",
      "val Loss: 0.7851 Acc: 0.8017\n",
      "\n",
      "Epoch 10/24\n",
      "----------\n",
      "train Loss: 1.2049 Acc: 0.6746\n",
      "val Loss: 0.8042 Acc: 0.8053\n",
      "\n",
      "Epoch 11/24\n",
      "----------\n",
      "train Loss: 1.1681 Acc: 0.6834\n",
      "val Loss: 0.7805 Acc: 0.8089\n",
      "\n",
      "Epoch 12/24\n",
      "----------\n",
      "train Loss: 1.1374 Acc: 0.6914\n",
      "val Loss: 0.8266 Acc: 0.7955\n",
      "\n",
      "Epoch 13/24\n",
      "----------\n",
      "train Loss: 1.1172 Acc: 0.6943\n",
      "val Loss: 0.7661 Acc: 0.8095\n",
      "\n",
      "Epoch 14/24\n",
      "----------\n",
      "train Loss: 1.0956 Acc: 0.7028\n",
      "val Loss: 0.8137 Acc: 0.8091\n",
      "\n",
      "Epoch 15/24\n",
      "----------\n",
      "train Loss: 1.0653 Acc: 0.7091\n",
      "val Loss: 0.7699 Acc: 0.8078\n",
      "\n",
      "Epoch 16/24\n",
      "----------\n",
      "train Loss: 1.0522 Acc: 0.7130\n",
      "val Loss: 0.8245 Acc: 0.8091\n",
      "\n",
      "Epoch 17/24\n",
      "----------\n",
      "train Loss: 1.0237 Acc: 0.7199\n",
      "val Loss: 0.8109 Acc: 0.8084\n",
      "\n",
      "Epoch 18/24\n",
      "----------\n",
      "train Loss: 1.0133 Acc: 0.7229\n",
      "val Loss: 0.8089 Acc: 0.8119\n",
      "\n",
      "Epoch 19/24\n",
      "----------\n",
      "train Loss: 0.9844 Acc: 0.7315\n",
      "val Loss: 0.8298 Acc: 0.8081\n",
      "\n",
      "Epoch 20/24\n",
      "----------\n",
      "train Loss: 0.9772 Acc: 0.7338\n",
      "val Loss: 0.8280 Acc: 0.8111\n",
      "\n",
      "Epoch 21/24\n",
      "----------\n",
      "train Loss: 0.9626 Acc: 0.7378\n",
      "val Loss: 0.8146 Acc: 0.8111\n",
      "\n",
      "Epoch 22/24\n",
      "----------\n",
      "train Loss: 0.9438 Acc: 0.7427\n",
      "val Loss: 0.8198 Acc: 0.8132\n",
      "\n",
      "Epoch 23/24\n",
      "----------\n",
      "train Loss: 0.9328 Acc: 0.7455\n",
      "val Loss: 0.8314 Acc: 0.8087\n",
      "\n",
      "Epoch 24/24\n",
      "----------\n",
      "train Loss: 0.9291 Acc: 0.7476\n",
      "val Loss: 0.8156 Acc: 0.8092\n",
      "\n",
      "Training complete in 108m 52s\n",
      "Best val Acc: 0.8132\n",
      "CPU times: user 1h 51min 10s, sys: 11min 24s, total: 2h 2min 34s\n",
      "Wall time: 1h 48min 51s\n"
     ]
    }
   ],
   "source": [
    "%%time \n",
    "\n",
    "model = train_model(model,criterion, optimizer, scheduler, num_epochs=25)"
   ]
  }
 ],
 "metadata": {
  "kernelspec": {
   "display_name": "Python 3 (ipykernel)",
   "language": "python",
   "name": "python3"
  },
  "language_info": {
   "codemirror_mode": {
    "name": "ipython",
    "version": 3
   },
   "file_extension": ".py",
   "mimetype": "text/x-python",
   "name": "python",
   "nbconvert_exporter": "python",
   "pygments_lexer": "ipython3",
   "version": "3.9.13"
  }
 },
 "nbformat": 4,
 "nbformat_minor": 5
}
